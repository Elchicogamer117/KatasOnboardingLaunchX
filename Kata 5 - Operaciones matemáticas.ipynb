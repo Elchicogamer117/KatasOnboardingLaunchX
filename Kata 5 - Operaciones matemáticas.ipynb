{
 "cells": [
  {
   "cell_type": "markdown",
   "metadata": {},
   "source": [
    "Ejercicio 1: Utilizar operadores aritméticos"
   ]
  },
  {
   "cell_type": "code",
   "execution_count": 5,
   "metadata": {},
   "outputs": [
    {
     "name": "stdout",
     "output_type": "stream",
     "text": [
      "La distancia entre planetas es de 628949330 Km, que equivale a 390577533.93 Millas\n"
     ]
    }
   ],
   "source": [
    "#Distancia respecto a el sol (km)\n",
    "primerP = 149597870 \n",
    "segundoP = 778547200\n",
    "\n",
    "#Distancia entre planetas\n",
    "distanciaEP = segundoP - primerP\n",
    "#Conversion a millas\n",
    "distEPM = distanciaEP * 0.621\n",
    "\n",
    "print('La distancia entre planetas es de ' + str(distanciaEP) + ' Km, que equivale a ' + str(distEPM) + ' Millas')"
   ]
  },
  {
   "cell_type": "markdown",
   "metadata": {},
   "source": [
    "Ejercicio 2: convierte cadenas en números y usa valores absolutos"
   ]
  },
  {
   "cell_type": "code",
   "execution_count": 7,
   "metadata": {},
   "outputs": [
    {
     "name": "stdout",
     "output_type": "stream",
     "text": [
      "Ingrese la distancia de los planetas al sol en Km\n",
      "La distancia entre planetas es de 2722900000 Km, que equivale a 1690920900.0 Millas\n"
     ]
    }
   ],
   "source": [
    "print ('Ingrese la distancia de los planetas al sol en Km')\n",
    "primerPI = int(input('Primer planeta:'))\n",
    "segundoPI = int(input('Segundo planeta:'))\n",
    "\n",
    "#Distancia entre planetas\n",
    "distanciaEP = abs(segundoPI - primerPI)\n",
    "#Conversion a millas\n",
    "distEPM = distanciaEP * 0.621\n",
    "\n",
    "print('La distancia entre planetas es de ' + str(distanciaEP) + ' Km, que equivale a ' + str(distEPM) + ' Millas')"
   ]
  }
 ],
 "metadata": {
  "interpreter": {
   "hash": "75e15f843e96f5c4c28431b63ef7e0d0ee5bfa758bf4fd56d4e1303ddd52144d"
  },
  "kernelspec": {
   "display_name": "Python 3.10.1 64-bit",
   "language": "python",
   "name": "python3"
  },
  "language_info": {
   "codemirror_mode": {
    "name": "ipython",
    "version": 3
   },
   "file_extension": ".py",
   "mimetype": "text/x-python",
   "name": "python",
   "nbconvert_exporter": "python",
   "pygments_lexer": "ipython3",
   "version": "3.10.1"
  },
  "orig_nbformat": 4
 },
 "nbformat": 4,
 "nbformat_minor": 2
}
