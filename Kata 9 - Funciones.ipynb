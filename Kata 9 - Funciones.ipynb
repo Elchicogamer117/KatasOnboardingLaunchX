{
 "cells": [
  {
   "cell_type": "markdown",
   "metadata": {},
   "source": [
    "Ejercicio: Uso de funciones en Python"
   ]
  },
  {
   "cell_type": "markdown",
   "metadata": {},
   "source": [
    "Ejercicio 1: Trabajar con argumentos en funciones"
   ]
  },
  {
   "cell_type": "code",
   "execution_count": 6,
   "metadata": {},
   "outputs": [],
   "source": [
    "def generateReport(mainTank, superiorTank, replacementTank):\n",
    "    totalAverage = (mainTank + superiorTank + replacementTank) / 3\n",
    "    return f\"\"\"Fuel Report:\n",
    "    Total Average: {totalAverage} %\n",
    "    Main tank: {mainTank} %\n",
    "    Superior tank: {superiorTank} %\n",
    "    Replacement tank: {replacementTank} % \n",
    "    \"\"\"\n",
    "\n",
    "def average(values):\n",
    "    total = sum(values)\n",
    "    itemsNumbers = len(values)\n",
    "    return total / itemsNumbers\n",
    "\n",
    "def generateReportV2(mainTank, superiorTank, replacementTank):\n",
    "    return f\"\"\"Fuel Report:\n",
    "    Total Average: {average([mainTank, superiorTank, replacementTank])} %\n",
    "    Main tank: {mainTank} %\n",
    "    Superior tank: {superiorTank} %\n",
    "    Replacement tank: {replacementTank} % \n",
    "    \"\"\"\n"
   ]
  },
  {
   "cell_type": "code",
   "execution_count": 10,
   "metadata": {},
   "outputs": [
    {
     "name": "stdout",
     "output_type": "stream",
     "text": [
      "Fuel Report:\n",
      "    Total Average: 78.33333333333333 %\n",
      "    Main tank: 80 %\n",
      "    Superior tank: 70 %\n",
      "    Replacement tank: 85 % \n",
      "    \n",
      "82.0\n",
      "Fuel Report:\n",
      "    Total Average: 78.0 %\n",
      "    Main tank: 88 %\n",
      "    Superior tank: 76 %\n",
      "    Replacement tank: 70 % \n",
      "    \n"
     ]
    }
   ],
   "source": [
    "print(generateReport(80, 70, 85))\n",
    "\n",
    "print(average([80, 85, 81])) \n",
    "\n",
    "print(generateReportV2(88, 76, 70))"
   ]
  },
  {
   "cell_type": "code",
   "execution_count": 3,
   "metadata": {},
   "outputs": [],
   "source": []
  }
 ],
 "metadata": {
  "interpreter": {
   "hash": "75e15f843e96f5c4c28431b63ef7e0d0ee5bfa758bf4fd56d4e1303ddd52144d"
  },
  "kernelspec": {
   "display_name": "Python 3.10.1 64-bit",
   "language": "python",
   "name": "python3"
  },
  "language_info": {
   "codemirror_mode": {
    "name": "ipython",
    "version": 3
   },
   "file_extension": ".py",
   "mimetype": "text/x-python",
   "name": "python",
   "nbconvert_exporter": "python",
   "pygments_lexer": "ipython3",
   "version": "3.10.1"
  },
  "orig_nbformat": 4
 },
 "nbformat": 4,
 "nbformat_minor": 2
}
