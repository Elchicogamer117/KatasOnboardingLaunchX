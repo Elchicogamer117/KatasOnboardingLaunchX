{
 "cells": [
  {
   "cell_type": "markdown",
   "metadata": {},
   "source": [
    "Ejercicio 1: Velocidad asteroides"
   ]
  },
  {
   "cell_type": "code",
   "execution_count": 1,
   "metadata": {},
   "outputs": [
    {
     "name": "stdout",
     "output_type": "stream",
     "text": [
      "No mires arriba\n"
     ]
    }
   ],
   "source": [
    "velocidadAsteroide = 48\n",
    "\n",
    "if velocidadAsteroide > 25:\n",
    "    print('No mires arriba')\n",
    "else :\n",
    "    print('Nada')\n"
   ]
  },
  {
   "cell_type": "markdown",
   "metadata": {},
   "source": [
    "Ejercicio 2: Velocidad asteroides"
   ]
  },
  {
   "cell_type": "code",
   "execution_count": 5,
   "metadata": {},
   "outputs": [
    {
     "name": "stdout",
     "output_type": "stream",
     "text": [
      "No vas a ver nada\n"
     ]
    }
   ],
   "source": [
    "velocidadAsteroide = 18\n",
    "\n",
    "if velocidadAsteroide >= 20:\n",
    "    print('Puedes ver el haz de luz del asteroide si miras hacia arriba')\n",
    "else :\n",
    "    print('No vas a ver nada')"
   ]
  },
  {
   "cell_type": "markdown",
   "metadata": {},
   "source": [
    "Condiciones - Ejercicio 3"
   ]
  },
  {
   "cell_type": "code",
   "execution_count": 10,
   "metadata": {},
   "outputs": [
    {
     "name": "stdout",
     "output_type": "stream",
     "text": [
      "Puedes ver el haz de luz del asteroide si miras hacia arriba\n"
     ]
    }
   ],
   "source": [
    "velocidadAsteroide = 25\n",
    "tamañoAsteroide = 2\n",
    "\n",
    "if velocidadAsteroide > 25 and tamañoAsteroide > 25 and tamañoAsteroide < 1000:\n",
    "    print('Mira arriba, puedes ver el haz de luz del asteroide que esta a punto de matarte :)')\n",
    "elif velocidadAsteroide >= 20 and velocidadAsteroide <= 25:\n",
    "    if tamañoAsteroide > 25:\n",
    "        print('Puedes ver el haz de luz del asteroide que posiblemente te mate')\n",
    "    else:\n",
    "        print('Puedes ver el haz de luz del asteroide si miras hacia arriba')\n",
    "elif velocidadAsteroide < 20:\n",
    "    if tamañoAsteroide > 25:\n",
    "        print('No mires arriba! No puedes ver el haz de luz del asteroide que posiblemente te mate :)')\n",
    "    else:\n",
    "        print('Sigue con tu vida, nada que ver')\n",
    "elif velocidadAsteroide > 25 and tamañoAsteroide < 25:\n",
    "    print('Puedes ver el haz de luz del asteroide que posiblemente te mate')\n",
    "elif tamañoAsteroide >= 1000:\n",
    "    print('Planet error: el planeta que estas buscando ya no existe')\n",
    "else:\n",
    "    print('Nada que ver aquí')"
   ]
  }
 ],
 "metadata": {
  "interpreter": {
   "hash": "75e15f843e96f5c4c28431b63ef7e0d0ee5bfa758bf4fd56d4e1303ddd52144d"
  },
  "kernelspec": {
   "display_name": "Python 3.10.1 64-bit",
   "language": "python",
   "name": "python3"
  },
  "language_info": {
   "codemirror_mode": {
    "name": "ipython",
    "version": 3
   },
   "file_extension": ".py",
   "mimetype": "text/x-python",
   "name": "python",
   "nbconvert_exporter": "python",
   "pygments_lexer": "ipython3",
   "version": "3.10.1"
  },
  "orig_nbformat": 4
 },
 "nbformat": 4,
 "nbformat_minor": 2
}
