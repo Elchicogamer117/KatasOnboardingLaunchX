{
 "cells": [
  {
   "cell_type": "markdown",
   "metadata": {},
   "source": [
    "Escenario: Creación de un programa de cohetes"
   ]
  },
  {
   "cell_type": "markdown",
   "metadata": {},
   "source": [
    "Tracebacks"
   ]
  },
  {
   "cell_type": "code",
   "execution_count": 1,
   "metadata": {},
   "outputs": [
    {
     "ename": "FileNotFoundError",
     "evalue": "[Errno 2] No such file or directory: '/path/to/mars.jpg'",
     "output_type": "error",
     "traceback": [
      "\u001b[1;31m---------------------------------------------------------------------------\u001b[0m",
      "\u001b[1;31mFileNotFoundError\u001b[0m                         Traceback (most recent call last)",
      "\u001b[1;32mc:\\Users\\cris1\\OneDrive\\Grabadora Pro\\Documentos\\INNOVACCION\\Kata 10 - Manejo de errores.ipynb Cell 3'\u001b[0m in \u001b[0;36m<module>\u001b[1;34m\u001b[0m\n\u001b[0;32m      <a href='vscode-notebook-cell:/c%3A/Users/cris1/OneDrive/Grabadora%20Pro/Documentos/INNOVACCION/Kata%2010%20-%20Manejo%20de%20errores.ipynb#ch0000000?line=1'>2</a>\u001b[0m     \u001b[39mopen\u001b[39m(\u001b[39m\"\u001b[39m\u001b[39m/path/to/mars.jpg\u001b[39m\u001b[39m\"\u001b[39m)\n\u001b[0;32m      <a href='vscode-notebook-cell:/c%3A/Users/cris1/OneDrive/Grabadora%20Pro/Documentos/INNOVACCION/Kata%2010%20-%20Manejo%20de%20errores.ipynb#ch0000000?line=3'>4</a>\u001b[0m \u001b[39mif\u001b[39;00m \u001b[39m__name__\u001b[39m \u001b[39m==\u001b[39m \u001b[39m'\u001b[39m\u001b[39m__main__\u001b[39m\u001b[39m'\u001b[39m:\n\u001b[1;32m----> <a href='vscode-notebook-cell:/c%3A/Users/cris1/OneDrive/Grabadora%20Pro/Documentos/INNOVACCION/Kata%2010%20-%20Manejo%20de%20errores.ipynb#ch0000000?line=4'>5</a>\u001b[0m     main()\n",
      "\u001b[1;32mc:\\Users\\cris1\\OneDrive\\Grabadora Pro\\Documentos\\INNOVACCION\\Kata 10 - Manejo de errores.ipynb Cell 3'\u001b[0m in \u001b[0;36mmain\u001b[1;34m()\u001b[0m\n\u001b[0;32m      <a href='vscode-notebook-cell:/c%3A/Users/cris1/OneDrive/Grabadora%20Pro/Documentos/INNOVACCION/Kata%2010%20-%20Manejo%20de%20errores.ipynb#ch0000000?line=0'>1</a>\u001b[0m \u001b[39mdef\u001b[39;00m \u001b[39mmain\u001b[39m():\n\u001b[1;32m----> <a href='vscode-notebook-cell:/c%3A/Users/cris1/OneDrive/Grabadora%20Pro/Documentos/INNOVACCION/Kata%2010%20-%20Manejo%20de%20errores.ipynb#ch0000000?line=1'>2</a>\u001b[0m     \u001b[39mopen\u001b[39;49m(\u001b[39m\"\u001b[39;49m\u001b[39m/path/to/mars.jpg\u001b[39;49m\u001b[39m\"\u001b[39;49m)\n",
      "\u001b[1;31mFileNotFoundError\u001b[0m: [Errno 2] No such file or directory: '/path/to/mars.jpg'"
     ]
    }
   ],
   "source": [
    "def main():\n",
    "    open(\"/path/to/mars.jpg\")\n",
    "\n",
    "if __name__ == '__main__':\n",
    "    main()"
   ]
  },
  {
   "cell_type": "markdown",
   "metadata": {},
   "source": [
    "Try y Except"
   ]
  },
  {
   "cell_type": "code",
   "execution_count": 3,
   "metadata": {},
   "outputs": [
    {
     "name": "stdout",
     "output_type": "stream",
     "text": [
      "Couldn't find the config.txt file!\n"
     ]
    }
   ],
   "source": [
    "def main():\n",
    "    try:\n",
    "        configuration = open('config.txt')\n",
    "    except FileNotFoundError:\n",
    "        print(\"Couldn't find the config.txt file!\")\n",
    "    except IsADirectoryError:\n",
    "        print(\"Found config.txt but it is a directory, couldn't read it\")\n",
    "    except (BlockingIOError, TimeoutError):\n",
    "        print(\"Filesystem under heavy load, can't complete reading configuration file\")\n",
    "    except OSError as err:\n",
    "         if err.errno == 2:\n",
    "             print(\"Couldn't find the config.txt file!\")\n",
    "         elif err.errno == 13:\n",
    "             print(\"Found config.txt but couldn't read it\")\n",
    "\n",
    "\n",
    "if __name__ == '__main__':\n",
    "    main()"
   ]
  },
  {
   "cell_type": "markdown",
   "metadata": {},
   "source": [
    "Generación de excepciones"
   ]
  },
  {
   "cell_type": "code",
   "execution_count": 8,
   "metadata": {},
   "outputs": [],
   "source": [
    "def waterLeft(astronauts, waterLeft, daysLeft):\n",
    "    dailyUsage = astronauts * 11\n",
    "    totalUsage = dailyUsage * daysLeft\n",
    "    totalWaterLeft = waterLeft - totalUsage\n",
    "    return f\"Total water left after {daysLeft} days is: {totalWaterLeft} liters\"\n",
    "\n",
    "def waterLeftV2(astronauts, waterLeft, daysLeft):\n",
    "    dailyUsage = astronauts * 11\n",
    "    totalUsage = dailyUsage * daysLeft\n",
    "    totalWaterLeft = waterLeft - totalUsage\n",
    "    if totalWaterLeft < 0:\n",
    "        raise RuntimeError(f\"There is not enough water for {astronauts} astronauts after {daysLeft} days!\")\n",
    "    return f\"Total water left after {daysLeft} days is: {totalWaterLeft} liters\"\n",
    "\n",
    "def waterLeftV3(astronauts, waterLeft, daysLeft):\n",
    "    for argument in [astronauts, waterLeft, daysLeft]:\n",
    "        try:\n",
    "            # If argument is an int, the following operation will work\n",
    "            argument / 10\n",
    "        except TypeError:\n",
    "            # TypError will be raised only if it isn't the right type \n",
    "            # Raise the same exception but with a better error message\n",
    "            raise TypeError(f\"All arguments must be of type int, but received: '{argument}'\")\n",
    "    dailyUsage = astronauts * 11\n",
    "    totalUsage = dailyUsage * daysLeft\n",
    "    totalWaterLeft = waterLeft - totalUsage\n",
    "    if totalWaterLeft < 0:\n",
    "        raise RuntimeError(f\"There is not enough water for {astronauts} astronauts after {daysLeft} days!\")\n",
    "    return f\"Total water left after {daysLeft} days is: {totalWaterLeft} liters\""
   ]
  },
  {
   "cell_type": "code",
   "execution_count": 10,
   "metadata": {},
   "outputs": [
    {
     "name": "stdout",
     "output_type": "stream",
     "text": [
      "Total water left after 2 days is: -10 liters\n"
     ]
    },
    {
     "ename": "RuntimeError",
     "evalue": "There is not enough water for 5 astronauts after 2 days!",
     "output_type": "error",
     "traceback": [
      "\u001b[1;31m---------------------------------------------------------------------------\u001b[0m",
      "\u001b[1;31mRuntimeError\u001b[0m                              Traceback (most recent call last)",
      "\u001b[1;32mc:\\Users\\cris1\\OneDrive\\Grabadora Pro\\Documentos\\INNOVACCION\\Kata 10 - Manejo de errores.ipynb Cell 8'\u001b[0m in \u001b[0;36m<module>\u001b[1;34m\u001b[0m\n\u001b[0;32m      <a href='vscode-notebook-cell:/c%3A/Users/cris1/OneDrive/Grabadora%20Pro/Documentos/INNOVACCION/Kata%2010%20-%20Manejo%20de%20errores.ipynb#ch0000007?line=0'>1</a>\u001b[0m \u001b[39mprint\u001b[39m(waterLeft(\u001b[39m5\u001b[39m, \u001b[39m100\u001b[39m, \u001b[39m2\u001b[39m))\n\u001b[1;32m----> <a href='vscode-notebook-cell:/c%3A/Users/cris1/OneDrive/Grabadora%20Pro/Documentos/INNOVACCION/Kata%2010%20-%20Manejo%20de%20errores.ipynb#ch0000007?line=2'>3</a>\u001b[0m \u001b[39mprint\u001b[39m(waterLeftV2(\u001b[39m5\u001b[39;49m, \u001b[39m100\u001b[39;49m, \u001b[39m2\u001b[39;49m))\n\u001b[0;32m      <a href='vscode-notebook-cell:/c%3A/Users/cris1/OneDrive/Grabadora%20Pro/Documentos/INNOVACCION/Kata%2010%20-%20Manejo%20de%20errores.ipynb#ch0000007?line=4'>5</a>\u001b[0m \u001b[39mprint\u001b[39m(waterLeftV3(\u001b[39m5\u001b[39m, \u001b[39m100\u001b[39m, \u001b[39m2\u001b[39m))\n",
      "\u001b[1;32mc:\\Users\\cris1\\OneDrive\\Grabadora Pro\\Documentos\\INNOVACCION\\Kata 10 - Manejo de errores.ipynb Cell 7'\u001b[0m in \u001b[0;36mwaterLeftV2\u001b[1;34m(astronauts, waterLeft, daysLeft)\u001b[0m\n\u001b[0;32m     <a href='vscode-notebook-cell:/c%3A/Users/cris1/OneDrive/Grabadora%20Pro/Documentos/INNOVACCION/Kata%2010%20-%20Manejo%20de%20errores.ipynb#ch0000006?line=9'>10</a>\u001b[0m totalWaterLeft \u001b[39m=\u001b[39m waterLeft \u001b[39m-\u001b[39m totalUsage\n\u001b[0;32m     <a href='vscode-notebook-cell:/c%3A/Users/cris1/OneDrive/Grabadora%20Pro/Documentos/INNOVACCION/Kata%2010%20-%20Manejo%20de%20errores.ipynb#ch0000006?line=10'>11</a>\u001b[0m \u001b[39mif\u001b[39;00m totalWaterLeft \u001b[39m<\u001b[39m \u001b[39m0\u001b[39m:\n\u001b[1;32m---> <a href='vscode-notebook-cell:/c%3A/Users/cris1/OneDrive/Grabadora%20Pro/Documentos/INNOVACCION/Kata%2010%20-%20Manejo%20de%20errores.ipynb#ch0000006?line=11'>12</a>\u001b[0m     \u001b[39mraise\u001b[39;00m \u001b[39mRuntimeError\u001b[39;00m(\u001b[39mf\u001b[39m\u001b[39m\"\u001b[39m\u001b[39mThere is not enough water for \u001b[39m\u001b[39m{\u001b[39;00mastronauts\u001b[39m}\u001b[39;00m\u001b[39m astronauts after \u001b[39m\u001b[39m{\u001b[39;00mdaysLeft\u001b[39m}\u001b[39;00m\u001b[39m days!\u001b[39m\u001b[39m\"\u001b[39m)\n\u001b[0;32m     <a href='vscode-notebook-cell:/c%3A/Users/cris1/OneDrive/Grabadora%20Pro/Documentos/INNOVACCION/Kata%2010%20-%20Manejo%20de%20errores.ipynb#ch0000006?line=12'>13</a>\u001b[0m \u001b[39mreturn\u001b[39;00m \u001b[39mf\u001b[39m\u001b[39m\"\u001b[39m\u001b[39mTotal water left after \u001b[39m\u001b[39m{\u001b[39;00mdaysLeft\u001b[39m}\u001b[39;00m\u001b[39m days is: \u001b[39m\u001b[39m{\u001b[39;00mtotalWaterLeft\u001b[39m}\u001b[39;00m\u001b[39m liters\u001b[39m\u001b[39m\"\u001b[39m\n",
      "\u001b[1;31mRuntimeError\u001b[0m: There is not enough water for 5 astronauts after 2 days!"
     ]
    }
   ],
   "source": [
    "print(waterLeft(5, 100, 2))\n",
    "\n",
    "print(waterLeftV2(5, 100, 2))\n",
    "\n",
    "print(waterLeftV3(5, 100, 2))"
   ]
  },
  {
   "cell_type": "code",
   "execution_count": null,
   "metadata": {},
   "outputs": [],
   "source": []
  }
 ],
 "metadata": {
  "interpreter": {
   "hash": "75e15f843e96f5c4c28431b63ef7e0d0ee5bfa758bf4fd56d4e1303ddd52144d"
  },
  "kernelspec": {
   "display_name": "Python 3.10.1 64-bit",
   "language": "python",
   "name": "python3"
  },
  "language_info": {
   "codemirror_mode": {
    "name": "ipython",
    "version": 3
   },
   "file_extension": ".py",
   "mimetype": "text/x-python",
   "name": "python",
   "nbconvert_exporter": "python",
   "pygments_lexer": "ipython3",
   "version": "3.10.1"
  },
  "orig_nbformat": 4
 },
 "nbformat": 4,
 "nbformat_minor": 2
}
